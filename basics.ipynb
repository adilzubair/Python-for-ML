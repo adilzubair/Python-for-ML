{
 "cells": [
  {
   "cell_type": "markdown",
   "id": "eff7a068-f4e9-4bbf-b027-4e670b539f84",
   "metadata": {
    "tags": []
   },
   "source": [
    "# Basics of `Python` Programming\n",
    "In this notebook we will explain basic `Python` for Machine Learning."
   ]
  },
  {
   "cell_type": "markdown",
   "id": "7adada18-e11e-4ce3-91bd-01c5cd83aff3",
   "metadata": {},
   "source": [
    "## Derived Datatypes in `Python`"
   ]
  },
  {
   "cell_type": "markdown",
   "id": "0aa31ad3-0fe7-47c8-9ea5-91f0cb161de4",
   "metadata": {},
   "source": [
    ">**NOTE:** In Python `int`, `float`, `str` etc are atomic datatypes and no declaration is required. "
   ]
  },
  {
   "cell_type": "code",
   "execution_count": 5,
   "id": "219975f9-1248-43b6-9ff7-4efe0228eb31",
   "metadata": {},
   "outputs": [],
   "source": [
    "my_list = [1,2,3]"
   ]
  },
  {
   "cell_type": "code",
   "execution_count": 6,
   "id": "811a2a4c-49a0-4a81-9b2f-cae64e6980c3",
   "metadata": {},
   "outputs": [
    {
     "data": {
      "text/plain": [
       "[1, 2, 3]"
      ]
     },
     "execution_count": 6,
     "metadata": {},
     "output_type": "execute_result"
    }
   ],
   "source": [
    "my_list"
   ]
  },
  {
   "cell_type": "code",
   "execution_count": 7,
   "id": "a0fcf89f-df1c-44d7-8953-d2fe629ae054",
   "metadata": {},
   "outputs": [],
   "source": [
    "my_list = [1,'a',2,'b',]"
   ]
  },
  {
   "cell_type": "code",
   "execution_count": 10,
   "id": "e93361cb-5f61-47f3-97f6-554ba9163822",
   "metadata": {},
   "outputs": [
    {
     "data": {
      "text/plain": [
       "[1, 'a', 2, 'b']"
      ]
     },
     "execution_count": 10,
     "metadata": {},
     "output_type": "execute_result"
    }
   ],
   "source": [
    "my_list"
   ]
  },
  {
   "cell_type": "code",
   "execution_count": 11,
   "id": "1fd125c3-9b01-468c-9a77-a932d8090abf",
   "metadata": {},
   "outputs": [
    {
     "data": {
      "text/plain": [
       "1"
      ]
     },
     "execution_count": 11,
     "metadata": {},
     "output_type": "execute_result"
    }
   ],
   "source": [
    "my_list[0]"
   ]
  },
  {
   "cell_type": "code",
   "execution_count": 14,
   "id": "3d3b6c94-b1c8-46f1-9cfe-cfbf123dbd17",
   "metadata": {},
   "outputs": [],
   "source": [
    "my_list[3]='new'"
   ]
  },
  {
   "cell_type": "code",
   "execution_count": 15,
   "id": "dfa05301-6011-4887-a239-f60fa3ce2b52",
   "metadata": {},
   "outputs": [],
   "source": [
    "my_list.append(\"new\")"
   ]
  },
  {
   "cell_type": "code",
   "execution_count": 16,
   "id": "f2547e58-b325-41ee-a554-f9f8b887ab4b",
   "metadata": {},
   "outputs": [
    {
     "data": {
      "text/plain": [
       "[1, 'a', 2, 'new', 'new']"
      ]
     },
     "execution_count": 16,
     "metadata": {},
     "output_type": "execute_result"
    }
   ],
   "source": [
    "my_list"
   ]
  },
  {
   "cell_type": "code",
   "execution_count": 17,
   "id": "ae9e837b-d86e-4e04-8f7b-5452adcae3b0",
   "metadata": {},
   "outputs": [],
   "source": [
    "t=(1,2,3)"
   ]
  },
  {
   "cell_type": "code",
   "execution_count": 18,
   "id": "feb01708-36e9-419c-94ee-9007b9796045",
   "metadata": {},
   "outputs": [
    {
     "data": {
      "text/plain": [
       "(1, 2, 3)"
      ]
     },
     "execution_count": 18,
     "metadata": {},
     "output_type": "execute_result"
    }
   ],
   "source": [
    "t"
   ]
  },
  {
   "cell_type": "markdown",
   "id": "fb803c59-fbc7-4792-8400-3f42a51d8f8a",
   "metadata": {},
   "source": [
    "### Dictionary"
   ]
  },
  {
   "cell_type": "code",
   "execution_count": 20,
   "id": "7cdff269-5ca4-4fce-b6cc-c4bc288688aa",
   "metadata": {},
   "outputs": [],
   "source": [
    "d={'Name':'Adil','Age':20}"
   ]
  },
  {
   "cell_type": "code",
   "execution_count": 23,
   "id": "99106073-dc3c-4d02-a18f-66edf07608e9",
   "metadata": {},
   "outputs": [
    {
     "data": {
      "text/plain": [
       "20"
      ]
     },
     "execution_count": 23,
     "metadata": {},
     "output_type": "execute_result"
    }
   ],
   "source": [
    "d['Age']"
   ]
  },
  {
   "cell_type": "code",
   "execution_count": 24,
   "id": "c2a41a1f-414c-4592-a324-e28c222eb7eb",
   "metadata": {},
   "outputs": [
    {
     "data": {
      "text/plain": [
       "'Adil'"
      ]
     },
     "execution_count": 24,
     "metadata": {},
     "output_type": "execute_result"
    }
   ],
   "source": [
    "d['Name']"
   ]
  },
  {
   "cell_type": "code",
   "execution_count": 25,
   "id": "f95264af-9c78-44a5-b407-2cfd5959edc3",
   "metadata": {},
   "outputs": [
    {
     "data": {
      "text/plain": [
       "{1, 2, 3, 4}"
      ]
     },
     "execution_count": 25,
     "metadata": {},
     "output_type": "execute_result"
    }
   ],
   "source": [
    "{1,1,1,1,2,2,2,3,3,3,3,3,4,4,4,4,4}"
   ]
  },
  {
   "cell_type": "code",
   "execution_count": 34,
   "id": "3200d980-b5bd-4400-96e6-e2dcb964325f",
   "metadata": {},
   "outputs": [],
   "source": [
    "def times2(var):\n",
    "    return var*2"
   ]
  },
  {
   "cell_type": "code",
   "execution_count": 36,
   "id": "2c408f19-cf7a-41c2-bb28-2903d52426d8",
   "metadata": {},
   "outputs": [
    {
     "data": {
      "text/plain": [
       "10"
      ]
     },
     "execution_count": 36,
     "metadata": {},
     "output_type": "execute_result"
    }
   ],
   "source": [
    "times2(5)\n"
   ]
  },
  {
   "cell_type": "markdown",
   "id": "a4aae5ad-ed7e-4da6-b1eb-d7acb55b49b9",
   "metadata": {},
   "source": [
    "### Lambda arguments:expression"
   ]
  },
  {
   "cell_type": "code",
   "execution_count": 38,
   "id": "9f8046ea-7eab-485b-81e8-715ea8a2e394",
   "metadata": {},
   "outputs": [],
   "source": [
    "times2=lambda var:var*2"
   ]
  },
  {
   "cell_type": "code",
   "execution_count": 39,
   "id": "cd61b3e7-9d9a-4201-ba67-8565b41f711a",
   "metadata": {},
   "outputs": [
    {
     "name": "stdout",
     "output_type": "stream",
     "text": [
      "4\n"
     ]
    }
   ],
   "source": [
    "print(times2(2))"
   ]
  },
  {
   "cell_type": "markdown",
   "id": "60227701-2c7f-4251-9761-d78c39c1d338",
   "metadata": {},
   "source": [
    "### List Comprehension"
   ]
  },
  {
   "cell_type": "code",
   "execution_count": 42,
   "id": "fc08ff78-183e-4dd1-a045-c412e5ebc885",
   "metadata": {},
   "outputs": [],
   "source": [
    "x = [1,2,3,4]"
   ]
  },
  {
   "cell_type": "code",
   "execution_count": 44,
   "id": "5a0657a6-2fff-4f84-9a58-04643562eab5",
   "metadata": {},
   "outputs": [
    {
     "name": "stdout",
     "output_type": "stream",
     "text": [
      "[1, 4, 9, 16]\n"
     ]
    }
   ],
   "source": [
    "out = []\n",
    "for item in x:\n",
    "    out.append(item**2)\n",
    "print(out)"
   ]
  },
  {
   "cell_type": "code",
   "execution_count": 45,
   "id": "96790663-6a64-4b54-a457-bdfba9ae7882",
   "metadata": {},
   "outputs": [
    {
     "data": {
      "text/plain": [
       "[1, 4, 9, 16]"
      ]
     },
     "execution_count": 45,
     "metadata": {},
     "output_type": "execute_result"
    }
   ],
   "source": [
    "[item**2 for item in x]"
   ]
  },
  {
   "cell_type": "markdown",
   "id": "a261ad14-542d-47b1-9076-f17a193e0ff4",
   "metadata": {},
   "source": [
    "### Printing"
   ]
  },
  {
   "cell_type": "code",
   "execution_count": 46,
   "id": "915d274d-2d93-42b4-a1e1-f5cc83c57e9e",
   "metadata": {},
   "outputs": [],
   "source": [
    "num = 12\n",
    "name = 'sam'"
   ]
  },
  {
   "cell_type": "code",
   "execution_count": null,
   "id": "39868b39-fa14-42af-9777-aa351b5dea77",
   "metadata": {},
   "outputs": [],
   "source": [
    "print('My name is : (0), ')"
   ]
  }
 ],
 "metadata": {
  "kernelspec": {
   "display_name": "Python 3 (Intel® oneAPI 2023.2)",
   "language": "python",
   "name": "c009-intel_distribution_of_python_3_oneapi-beta05-python"
  },
  "language_info": {
   "codemirror_mode": {
    "name": "ipython",
    "version": 3
   },
   "file_extension": ".py",
   "mimetype": "text/x-python",
   "name": "python",
   "nbconvert_exporter": "python",
   "pygments_lexer": "ipython3",
   "version": "3.9.16"
  }
 },
 "nbformat": 4,
 "nbformat_minor": 5
}
